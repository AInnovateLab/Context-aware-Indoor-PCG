{
 "cells": [
  {
   "cell_type": "code",
   "execution_count": 1,
   "metadata": {},
   "outputs": [],
   "source": [
    "import os\n",
    "import numpy as np\n",
    "import plyfile\n",
    "import pyvista as pv\n",
    "import matplotlib.pyplot as plt\n",
    "# for headless linux users\n",
    "os.environ[\"DISPLAY\"] = \":99.0\"\n",
    "os.environ[\"PYVISTA_OFF_SCREEN\"] = \"true\""
   ]
  },
  {
   "cell_type": "code",
   "execution_count": 2,
   "metadata": {},
   "outputs": [],
   "source": [
    "# set this if on remote jupyter\n",
    "# NOTE: vscode remote jupyter does not work with pyvista\n",
    "pv.global_theme.trame.server_proxy_enabled = True"
   ]
  },
  {
   "cell_type": "markdown",
   "metadata": {},
   "source": [
    "1. Load point cloud"
   ]
  },
  {
   "cell_type": "code",
   "execution_count": 3,
   "metadata": {},
   "outputs": [],
   "source": [
    "filename = \"../../datasets/scannet/scans/scene0000_00/scene0000_00_vh_clean_2.labels.ply\"\n",
    "with open(filename, 'rb') as f:\n",
    "    plydata = plyfile.PlyData.read(f)\n",
    "    num_verts = plydata['vertex'].count\n",
    "    vertices = np.zeros(shape=[num_verts, 6], dtype=np.float32)\n",
    "    vertices[:,0] = plydata['vertex'].data['x']\n",
    "    vertices[:,1] = plydata['vertex'].data['y']\n",
    "    vertices[:,2] = plydata['vertex'].data['z']\n",
    "    vertices[:,3] = plydata['vertex'].data['red']\n",
    "    vertices[:,4] = plydata['vertex'].data['green']\n",
    "    vertices[:,5] = plydata['vertex'].data['blue']"
   ]
  },
  {
   "cell_type": "markdown",
   "metadata": {},
   "source": [
    "2. Create a pyvista point cloud object and generate mesh"
   ]
  },
  {
   "cell_type": "code",
   "execution_count": 4,
   "metadata": {},
   "outputs": [],
   "source": [
    "# Create a pyvista point cloud object\n",
    "cloud = pv.PolyData(vertices[:, :3])\n",
    "\n",
    "# Generate the mesh\n",
    "mesh = cloud.delaunay_2d()\n",
    "colors = vertices[:, 3:].astype(np.uint8)"
   ]
  },
  {
   "cell_type": "markdown",
   "metadata": {},
   "source": [
    "3. Plot the mesh"
   ]
  },
  {
   "cell_type": "code",
   "execution_count": 5,
   "metadata": {},
   "outputs": [
    {
     "data": {
      "application/vnd.jupyter.widget-view+json": {
       "model_id": "6f27cfce51934b7a944a6f9ddee4fc1e",
       "version_major": 2,
       "version_minor": 0
      },
      "text/plain": [
       "Widget(value=\"<iframe src='/proxy/35775/index.html?ui=P_0x7fb2c7d55b20_0&reconnect=auto' style='width: 99%; he…"
      ]
     },
     "metadata": {},
     "output_type": "display_data"
    }
   ],
   "source": [
    "# Plot the mesh\n",
    "plotter = pv.Plotter()\n",
    "plotter.add_mesh(mesh, scalars=colors, rgb=True, preference='point')\n",
    "plotter.show(jupyter_backend=\"trame\")\n",
    "# Save the plot graph in pdf format\n",
    "# plotter.save_graphic(\"test1.pdf\")"
   ]
  },
  {
   "cell_type": "markdown",
   "metadata": {},
   "source": [
    "The following is optional for save mesh"
   ]
  },
  {
   "cell_type": "code",
   "execution_count": null,
   "metadata": {},
   "outputs": [],
   "source": [
    "# TODO - mesh does not have color information\n",
    "mesh.save('mesh.vtk')"
   ]
  }
 ],
 "metadata": {
  "kernelspec": {
   "display_name": "Python 3",
   "language": "python",
   "name": "python3"
  },
  "language_info": {
   "codemirror_mode": {
    "name": "ipython",
    "version": 3
   },
   "file_extension": ".py",
   "mimetype": "text/x-python",
   "name": "python",
   "nbconvert_exporter": "python",
   "pygments_lexer": "ipython3",
   "version": "3.9.17"
  }
 },
 "nbformat": 4,
 "nbformat_minor": 4
}
