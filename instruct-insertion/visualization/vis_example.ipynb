{
 "cells": [
  {
   "cell_type": "code",
   "execution_count": null,
   "metadata": {},
   "outputs": [],
   "source": [
    "import numpy as np\n",
    "import plyfile\n",
    "import pyvista as pv\n",
    "import matplotlib.pyplot as plt"
   ]
  },
  {
   "cell_type": "markdown",
   "metadata": {},
   "source": [
    "1. Load point cloud"
   ]
  },
  {
   "cell_type": "code",
   "execution_count": null,
   "metadata": {},
   "outputs": [],
   "source": [
    "filename = '/home/lyy/workspace/Instruct-Replacement/datasets/scannet/scans/scene0000_00/scene0000_00_vh_clean_2.ply' \n",
    "with open(filename, 'rb') as f:\n",
    "    plydata = plyfile.PlyData.read(f)\n",
    "    num_verts = plydata['vertex'].count\n",
    "    vertices = np.zeros(shape=[num_verts, 6], dtype=np.float32)\n",
    "    vertices[:,0] = plydata['vertex'].data['x']\n",
    "    vertices[:,1] = plydata['vertex'].data['y']\n",
    "    vertices[:,2] = plydata['vertex'].data['z']\n",
    "    vertices[:,3] = plydata['vertex'].data['red']\n",
    "    vertices[:,4] = plydata['vertex'].data['green']\n",
    "    vertices[:,5] = plydata['vertex'].data['blue']"
   ]
  },
  {
   "cell_type": "markdown",
   "metadata": {},
   "source": [
    "2. Create a pyvista point cloud object and generate mesh"
   ]
  },
  {
   "cell_type": "code",
   "execution_count": null,
   "metadata": {},
   "outputs": [],
   "source": [
    "# Create a pyvista point cloud object\n",
    "cloud = pv.PolyData(vertices[:, :3])\n",
    "\n",
    "# Generate the mesh\n",
    "mesh = cloud.delaunay_2d()\n",
    "colors = vertices[:, 3:].astype(np.uint8)"
   ]
  },
  {
   "cell_type": "markdown",
   "metadata": {},
   "source": [
    "3. Plot the mesh"
   ]
  },
  {
   "cell_type": "code",
   "execution_count": null,
   "metadata": {},
   "outputs": [],
   "source": [
    "# Plot the mesh\n",
    "plotter = pv.Plotter()\n",
    "plotter.add_mesh(mesh, scalars=colors, rgb=True, preference='point')\n",
    "plotter.show()\n",
    "# Save the plot graph in pdf format\n",
    "plotter.save_graphic(\"test1.pdf\")"
   ]
  },
  {
   "cell_type": "markdown",
   "metadata": {},
   "source": [
    "The following is optional for save mesh"
   ]
  },
  {
   "cell_type": "code",
   "execution_count": null,
   "metadata": {},
   "outputs": [],
   "source": [
    "# mesh does not have color information\n",
    "mesh.save('mesh.vtk', texture=)\n"
   ]
  }
 ],
 "metadata": {
  "language_info": {
   "name": "python"
  },
  "orig_nbformat": 4
 },
 "nbformat": 4,
 "nbformat_minor": 2
}
